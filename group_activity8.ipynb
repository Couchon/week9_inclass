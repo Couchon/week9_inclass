{
 "cells": [
  {
   "cell_type": "code",
   "execution_count": null,
   "metadata": {
    "tags": []
   },
   "outputs": [],
   "source": [
    "%%capture\n",
    "# Install the autograder to check your answers as you go along\n",
    "import sys\n",
    "!{sys.executable} -m pip install otter-grader\n",
    "# Initialize Otter \n",
    "import otter\n",
    "grader = otter.Notebook(\"group_activity8.ipynb\")"
   ]
  },
  {
   "cell_type": "markdown",
   "metadata": {
    "id": "BRAp37uklN9X"
   },
   "source": [
    "# In-class coding exercise #8\n",
    "Objective: In this exercise you will review using Pandas Dataframes and plotting. Additionally, you will practice using SciPy's linear regression.\n",
    "\n",
    "## Introduction to group coding exercises\n",
    "Today you’ll work on this exercise in the same groups of 3-4 you were assigned last week, submitting a single notebook file at the end of the class period. Decide amongst yourselves which member will upload the completed notebook to Gradescope this week. Make sure that everyone takes a turn being the “Uploader”. _You cannot upload the final code two weeks in a row._\n",
    "\n",
    "Designate a different group member to be the \"Reporter\". The Reporter will be in charge of participating in the group discussion at the end of the class session.\n",
    "\n",
    "### Workflow\n",
    "Each question will be timed to ensure that everyone gets to work on at least a part of every question. Group activities are not graded by completeness or correctness, but by effort. We will be breaking down each question in the following order:  \n",
    "1. Independent work \n",
    "2. Group work and discussion on coding question\n",
    "3. Group work and discussion on reflection questions\n",
    "\n",
    "You are welcome and encouraged to communicate with other groups and the teaching team when you feel stuck on a problem. \n",
    "\n",
    "As a reminder, we will be grading based best practices in coding. These include: \n",
    "1) Variables are used to store objects\n",
    "\n",
    "2) Code is commented adequately\n",
    "\n",
    "3) Variables are names appropriately\n",
    "\n",
    "4) Code is efficient with minimal unnecessary lines \n",
    "\n",
    "5) Documenting help from outside sources, such as from other groups or online documentation. \n",
    "\n",
    "6) Final notebook fully runs from start to finish. A good way to check this is restarting the kernel and fully running through all the cells to check for any errors.\n",
    "\n",
    "### Storing your answers\n",
    "In the code cells where you will write your answers, there will be comments denoting:\n",
    "\n",
    "\"**# your code**\"\n",
    "\n",
    "and \n",
    "\n",
    "\"**# answer variables**\"\n",
    "\n",
    "You may store any intermediary variables in the **your code** section. If you do not have any intermediary, you can also store your answer directly in the answer variables.\n",
    "\n",
    "### Required Plot Elements for Figures\n",
    "This assignments requires you to create and design figures using `matplotlib`. To practice good plotting practices, each figure will require the following to receive full points:\n",
    "1) Concise, descriptive title for each figure/subplot\n",
    "2) Axis labels with units (when possible)\n",
    "3) Appropriate axis limits (minimum and maximum)\n",
    "4) Appropriate tick resolution\n",
    "5) Legend when using different datasets \n",
    "6) Appropriate font size (a good range is 12-15)"
   ]
  },
  {
   "cell_type": "markdown",
   "metadata": {},
   "source": [
    "## Note here **and in the Gradescope submission** each of your group members:\n",
    "1.\n",
    "2. \n",
    "3."
   ]
  },
  {
   "cell_type": "markdown",
   "metadata": {
    "deletable": false,
    "editable": false,
    "id": "2d8TX_spON9b"
   },
   "source": [
    "# Question 1: Global temperature concentrations\n",
    "\n",
    "The figure below shows CO2 concentration over the past three centuries. We will compare this trend in CO2 with measured global temperature anomalies stored in \"NASA_GISS_global_temp.csv\" aquired from \n",
    "[NASA's Goddard Institute for Space Studies](https://data.giss.nasa.gov/gistemp/). Today you will read this data using Pandas, plot it, and model it using SciPy's linear regression.\n",
    "\n",
    "<img src=\"https://i.ibb.co/Hz4rMtc/co2-photo.png\" width=\"700\" />\n",
    "\n",
    "*Image: Atmospheric CO2 from 1700 to 2020. Source: [Scripps/UCSD](https://keelingcurve.ucsd.edu/).*\n",
    "\n",
    "\n",
    "## Part 1: Plot initial data (20 minutes)\n",
    "1) Set your `filepath` variable to the string representation to the \"NASA_GISS_global_temp.csv\" in the \"data\" folder. \n",
    "Load the file as a DataFrame using Pandas into the `global_temp` variable. Using the \"index_col\" argument, set the \"Year\" column as your DataFrame indexes to load years as integers.\n",
    "\n",
    "2) Make a plot of the 1880-2019 time series for Temperature Anomaly. Set the year (now the index) in the x-axis, and the \"Temp_anomaly\" column in the y-axis. Include the following:\n",
    "\n",
    ">a) Markers for each data point\n",
    "\n",
    ">b) Grid\n",
    "\n",
    ">c) All required plot elements listed in Assignment Instructions"
   ]
  },
  {
   "cell_type": "code",
   "execution_count": null,
   "metadata": {
    "tags": []
   },
   "outputs": [],
   "source": [
    "# Import NumPy, Pandas, SciPy, Matplotlib\n",
    "import numpy as np\n",
    "import pandas as pd\n",
    "from scipy import stats\n",
    "import matplotlib.pyplot as plt\n",
    "# your code\n",
    "\n",
    "# answer variables\n",
    "filepath = \"\"\n",
    "global_temp = \"\"\n",
    "\n",
    "# create plot \n"
   ]
  },
  {
   "cell_type": "code",
   "execution_count": null,
   "metadata": {
    "deletable": false,
    "editable": false
   },
   "outputs": [],
   "source": [
    "grader.check(\"Question 1, Part 1\")"
   ]
  },
  {
   "cell_type": "markdown",
   "metadata": {
    "deletable": false,
    "editable": false
   },
   "source": [
    "## Part 2: Design linear regression model (25 minutes)\n",
    "3) Use the scipy.stats `linregress()` function to calculate a linear regression on the entire 1880-2019 time series. Do this in one line of code and store the output in the `slope`, `intercept`, `rvalue`, `pvalue`, and `stderr` variables. **Hint: years (index) are the x values, and Temp_anomalys are the y values (slide 11-12 in prelectures).** (0.5 point)\n",
    "\n",
    "4) Calculate linear regression fit: (1 point)\n",
    ">1) Print the slope (including units), **r-squared value** (`rvalue` squared), and p-value rounded to 3 decimal places.\n",
    ">2) Store the years (index) from `global_temp` in the `x_values` variable.\n",
    ">3) Use the `slope`, `intercept`, and your `x_values` to calculate the linear regression fit*. Store the resulting array in the `y_values` variable. \n",
    "\n",
    "*_HINT: Linear Regression follows the formula below_\n",
    "> **y = mx+b**\n",
    "\n",
    "5) Plot your linear regression fit and compare against the original data: (0.5 point):\n",
    ">1) Copy and paste your code to plot the temperature anomaly time series from part 1. \n",
    ">2) Plot the regression line that you just calculated on top using **different line type and color than the default settings**. \n",
    ">3) Add a legend (make sure to use the \"label\" argument in the `plot()` function)."
   ]
  },
  {
   "cell_type": "code",
   "execution_count": null,
   "metadata": {
    "tags": []
   },
   "outputs": [],
   "source": [
    "# your code\n",
    "\n",
    "# answer variables\n",
    "slope, intercept, rvalue, pvalue, stderr = \"\"\n",
    "x_values = \"\"\n",
    "y_values = \"\"\n",
    "\n",
    "# copy and paste plot from part 1 and add line for linear regression fit\n"
   ]
  },
  {
   "cell_type": "code",
   "execution_count": null,
   "metadata": {
    "deletable": false,
    "editable": false
   },
   "outputs": [],
   "source": [
    "grader.check(\"Question 1, Part 2\")"
   ]
  },
  {
   "cell_type": "markdown",
   "metadata": {
    "deletable": false,
    "editable": false
   },
   "source": [
    "<!-- BEGIN QUESTION -->\n",
    "\n",
    "## Data Interpretation (10 minutes)\n",
    "6) Answer the following questions in a text box (reference SciPy lecture slides if needed):\n",
    "\n",
    ">a. How much variance in the data is explained by the regression? _HINT: calculate r^2 value to get the variance, check slide 13 on how to get r^2 from the rvalue_\n",
    "\n",
    ">b. Looking at the p-value, is the 1880-2019 trend significant at the 95% confidence level? How can you tell?\n",
    "\n",
    ">c. Is this linear regression appropriate for this data? Why or why not? (2-3 sentences)\n"
   ]
  },
  {
   "cell_type": "markdown",
   "metadata": {},
   "source": [
    "_Type your answer here, replacing this text._"
   ]
  },
  {
   "cell_type": "markdown",
   "metadata": {
    "deletable": false,
    "editable": false
   },
   "source": [
    "<!-- END QUESTION -->\n",
    "\n",
    "## Question 2: CO2 Time Series\n",
    "Now that we've looked at the global temperature data, we can start our comparison against CO2 data. Today, we will be using observations from the Mauna Loa Laboratory, otherwise known as the Keeling Curve [(Keeling et al. 2017)](https://library.ucsd.edu/dc/object/bb3859642r). \n",
    "\n",
    "\n",
    "### Part 1 (10 minutes)\n",
    "1) Using `pandas.read_csv()`, load the data from the \"keeling_curve_monthly.csv\" file in the \"data\" folder. Set your dataframe to the `keeling` variable. \n",
    "\n",
    "2) Reset the \"time\" column to datetime object using `pandas to_datetime()`. \n",
    "\n",
    "2) Make a quick plot of the CO2 time series. Don't worry if the plot doesn't look very clean. Answer the following questions:\n",
    "\n",
    ">a) What do you notice about the data?\n",
    "\n",
    ">b) Are the recurring patterns in the time series? "
   ]
  },
  {
   "cell_type": "code",
   "execution_count": null,
   "metadata": {
    "tags": []
   },
   "outputs": [],
   "source": [
    "# load data and clean\n",
    "keeling = \"\"\n",
    "\n",
    "# your code for plotting\n"
   ]
  },
  {
   "cell_type": "code",
   "execution_count": null,
   "metadata": {
    "deletable": false,
    "editable": false
   },
   "outputs": [],
   "source": [
    "grader.check(\"Question 1, Part 4\")"
   ]
  },
  {
   "cell_type": "markdown",
   "metadata": {
    "deletable": false,
    "editable": false
   },
   "source": [
    "<!-- BEGIN QUESTION -->\n",
    "\n",
    "## Part 2: 1-D Interpolate Missing Data (20 minutes)\n",
    "Oh no, Todd strikes again! It looks like Kathy's cat sat on her computer before she uploaded the data to GitHub :( \n",
    "\n",
    "<img src = \"https://i.ibb.co/7r2hcLZ/IMG-3273-2.jpg\" width = 250>\n",
    "\n",
    "1) There are missing values for certain years within the dataset. What are the missing values represented by? Write your answer in a comment in the solution cell. \n",
    "\n",
    "2) Perform 1D interpolation using pandas `interpolate()` on the \"CO2\" column of `keeling`. Create a new column in your `keeling` dataframe named \"filled\" to place your interpolated values. \n",
    "\n",
    "3) Create a plot of your new time series with interpolated values. By default, the interpolation method is _linear_. Experiment with different methods by checking the [documentaion](https://pandas.pydata.org/docs/reference/api/pandas.DataFrame.interpolate.html). \n",
    "How does choosing different methods impact your interpretation? Write your answer in a comment in the solution cell. "
   ]
  },
  {
   "cell_type": "code",
   "execution_count": null,
   "metadata": {
    "tags": []
   },
   "outputs": [],
   "source": [
    "## response to step 1\n",
    "\n",
    "## response to step 3\n",
    "\n",
    "# your code for interpolation\n",
    "\n",
    "# your code for plotting"
   ]
  },
  {
   "cell_type": "markdown",
   "metadata": {
    "deletable": false,
    "editable": false,
    "id": "pXtZJjFbUgLY"
   },
   "source": [
    "<!-- END QUESTION -->\n",
    "\n",
    "<!-- BEGIN QUESTION -->\n",
    "\n",
    "# Reflection questions (5 minutes)\n",
    "\n",
    "The purpose of the reflection is to inform us as instructors about students comfort level with course content. We use these answers to inform how we spend class time and design coursework in subsequent weeks. This question is graded for completeness, so please answer each question in the text box below. Be concise in your answers (max. 2 sentences). \n",
    "\n",
    "1) What do you feel you excelled at in this exercise? Why?\n",
    "\n",
    "2) What did you struggle with most in the exercise? Why?\n",
    "\n",
    "3) Is there any section of the question that you did not complete? If so, briefly describe why and the section you spent the most time on. \n",
    "\n",
    "4) Is there any topic you feel we need to revisit or review in class? Why?"
   ]
  },
  {
   "cell_type": "markdown",
   "metadata": {},
   "source": [
    "_Type your answer here, replacing this text._"
   ]
  },
  {
   "cell_type": "markdown",
   "metadata": {
    "deletable": false,
    "editable": false
   },
   "source": [
    "<!-- END QUESTION -->\n",
    "\n"
   ]
  },
  {
   "cell_type": "markdown",
   "metadata": {
    "deletable": false,
    "editable": false
   },
   "source": [
    "---\n",
    "\n",
    "To double-check your work, the cell below will rerun all of the autograder tests."
   ]
  },
  {
   "cell_type": "code",
   "execution_count": null,
   "metadata": {
    "deletable": false,
    "editable": false
   },
   "outputs": [],
   "source": [
    "grader.check_all()"
   ]
  }
 ],
 "metadata": {
  "colab": {
   "provenance": []
  },
  "kernelspec": {
   "display_name": "Python 3 (ipykernel)",
   "language": "python",
   "name": "python3"
  },
  "language_info": {
   "codemirror_mode": {
    "name": "ipython",
    "version": 3
   },
   "file_extension": ".py",
   "mimetype": "text/x-python",
   "name": "python",
   "nbconvert_exporter": "python",
   "pygments_lexer": "ipython3",
   "version": "3.10.10"
  },
  "otter": {
   "OK_FORMAT": true,
   "tests": {
    "Question 1, Part 1": {
     "name": "Question 1, Part 1",
     "points": 0,
     "suites": [
      {
       "cases": [
        {
         "code": ">>> global_temp.index.name == 'Year'\nTrue",
         "failure_message": "Check your global_temp variable!",
         "hidden": false,
         "locked": false,
         "points": 0
        },
        {
         "code": ">>> (list(global_temp.columns) == ['Temp_anomaly', 'Temp_anomaly_smooth']) & (global_temp.shape == (140, 2))\nTrue",
         "failure_message": "Check your global_temp variable!",
         "hidden": false,
         "locked": false,
         "points": 0
        }
       ],
       "scored": true,
       "setup": "",
       "teardown": "",
       "type": "doctest"
      }
     ]
    },
    "Question 1, Part 2": {
     "name": "Question 1, Part 2",
     "points": 0,
     "suites": [
      {
       "cases": [
        {
         "code": ">>> import numpy as np\n>>> (np.round(slope, 3) == 0.007) & ((np.round(rvalue, 3) == 0.866) | (np.round(rvalue, 3) == 0.75)) & (np.round(pvalue, 3) == 0)\nTrue",
         "failure_message": "Check your slope, rvalue, and pvalue variables!",
         "hidden": false,
         "locked": false,
         "points": 0
        },
        {
         "code": ">>> import numpy as np\n>>> (np.unique(x_values) == np.arange(1880, 2020)).all()\nTrue",
         "failure_message": "Check your x_values variable!",
         "hidden": false,
         "locked": false,
         "points": 0
        },
        {
         "code": ">>> (len(y_values) == len(x_values)) & (np.round(y_values[0], 2) == -0.47) & (np.round(y_values[-1], 2) == 0.56)\nTrue",
         "failure_message": "Check your y_values variable!",
         "hidden": false,
         "locked": false,
         "points": 0
        }
       ],
       "scored": true,
       "setup": "",
       "teardown": "",
       "type": "doctest"
      }
     ]
    },
    "Question 1, Part 4": {
     "name": "Question 1, Part 4",
     "points": 0,
     "suites": [
      {
       "cases": [
        {
         "code": ">>> import pandas as pd\n>>> type(keeling) == pd.core.frame.DataFrame\nTrue",
         "failure_message": "Check your keeling dataframe!",
         "hidden": false,
         "locked": false,
         "points": 0
        }
       ],
       "scored": true,
       "setup": "",
       "teardown": "",
       "type": "doctest"
      }
     ]
    }
   }
  }
 },
 "nbformat": 4,
 "nbformat_minor": 4
}
